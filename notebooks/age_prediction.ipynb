{
 "cells": [
  {
   "cell_type": "code",
   "execution_count": 1,
   "id": "c2551732",
   "metadata": {},
   "outputs": [
    {
     "name": "stderr",
     "output_type": "stream",
     "text": [
      "Global seed set to 34\n"
     ]
    },
    {
     "data": {
      "text/plain": [
       "34"
      ]
     },
     "execution_count": 1,
     "metadata": {},
     "output_type": "execute_result"
    }
   ],
   "source": [
    "import os\n",
    "from typing import Optional\n",
    "import pandas as pd\n",
    "import numpy as np\n",
    "\n",
    "from sklearn.metrics import accuracy_score\n",
    "from sklearn.preprocessing import LabelEncoder\n",
    "from sklearn.model_selection import train_test_split\n",
    "\n",
    "import torch\n",
    "import torchvision\n",
    "from torch import nn\n",
    "\n",
    "from PIL import Image\n",
    "from torch.utils.data import Dataset, DataLoader\n",
    "\n",
    "from torchmetrics import Accuracy, F1Score\n",
    "\n",
    "import pytorch_lightning as pl\n",
    "from pytorch_lightning.callbacks import ModelCheckpoint, EarlyStopping\n",
    "from pytorch_lightning.loggers import WandbLogger\n",
    "\n",
    "\n",
    "from torchvision.transforms import RandomHorizontalFlip, RandomRotation, ColorJitter, GaussianBlur, RandomGrayscale, \\\n",
    "    Compose, Resize, RandomApply, ToTensor, Normalize\n",
    "pl.seed_everything(34)"
   ]
  },
  {
   "cell_type": "code",
   "execution_count": 2,
   "id": "7cbb6b34",
   "metadata": {},
   "outputs": [],
   "source": [
    "data_path = '../data/wild_images'"
   ]
  },
  {
   "cell_type": "code",
   "execution_count": 3,
   "id": "686a6094",
   "metadata": {},
   "outputs": [],
   "source": [
    "full_df = pd.read_csv(os.path.join(data_path, 'full_wild_images_new.csv'))"
   ]
  },
  {
   "cell_type": "code",
   "execution_count": 4,
   "id": "d81a403e",
   "metadata": {},
   "outputs": [
    {
     "data": {
      "text/html": [
       "<div>\n",
       "<style scoped>\n",
       "    .dataframe tbody tr th:only-of-type {\n",
       "        vertical-align: middle;\n",
       "    }\n",
       "\n",
       "    .dataframe tbody tr th {\n",
       "        vertical-align: top;\n",
       "    }\n",
       "\n",
       "    .dataframe thead th {\n",
       "        text-align: right;\n",
       "    }\n",
       "</style>\n",
       "<table border=\"1\" class=\"dataframe\">\n",
       "  <thead>\n",
       "    <tr style=\"text-align: right;\">\n",
       "      <th></th>\n",
       "      <th>file_path</th>\n",
       "      <th>subfolder</th>\n",
       "      <th>age</th>\n",
       "      <th>sex</th>\n",
       "      <th>race</th>\n",
       "      <th>age_range</th>\n",
       "      <th>image_size</th>\n",
       "      <th>image_width</th>\n",
       "      <th>image_height</th>\n",
       "      <th>mode</th>\n",
       "    </tr>\n",
       "  </thead>\n",
       "  <tbody>\n",
       "    <tr>\n",
       "      <th>0</th>\n",
       "      <td>34_0_1_20170112213542279.jpg</td>\n",
       "      <td>part2</td>\n",
       "      <td>34</td>\n",
       "      <td>0</td>\n",
       "      <td>1</td>\n",
       "      <td>30_to_40</td>\n",
       "      <td>(646, 643)</td>\n",
       "      <td>646</td>\n",
       "      <td>643</td>\n",
       "      <td>RGB</td>\n",
       "    </tr>\n",
       "    <tr>\n",
       "      <th>1</th>\n",
       "      <td>32_1_0_20170109141308065.jpg</td>\n",
       "      <td>part1</td>\n",
       "      <td>32</td>\n",
       "      <td>1</td>\n",
       "      <td>0</td>\n",
       "      <td>30_to_40</td>\n",
       "      <td>(638, 319)</td>\n",
       "      <td>638</td>\n",
       "      <td>319</td>\n",
       "      <td>RGB</td>\n",
       "    </tr>\n",
       "    <tr>\n",
       "      <th>2</th>\n",
       "      <td>35_1_0_20170116211804087.jpg</td>\n",
       "      <td>part2</td>\n",
       "      <td>35</td>\n",
       "      <td>1</td>\n",
       "      <td>0</td>\n",
       "      <td>30_to_40</td>\n",
       "      <td>(930, 875)</td>\n",
       "      <td>930</td>\n",
       "      <td>875</td>\n",
       "      <td>RGB</td>\n",
       "    </tr>\n",
       "    <tr>\n",
       "      <th>3</th>\n",
       "      <td>21_0_0_20170104020830476.jpg</td>\n",
       "      <td>part1</td>\n",
       "      <td>21</td>\n",
       "      <td>0</td>\n",
       "      <td>0</td>\n",
       "      <td>20_to_30</td>\n",
       "      <td>(900, 601)</td>\n",
       "      <td>900</td>\n",
       "      <td>601</td>\n",
       "      <td>RGB</td>\n",
       "    </tr>\n",
       "    <tr>\n",
       "      <th>4</th>\n",
       "      <td>27_1_2_20170104020523491.jpg</td>\n",
       "      <td>part1</td>\n",
       "      <td>27</td>\n",
       "      <td>1</td>\n",
       "      <td>2</td>\n",
       "      <td>20_to_30</td>\n",
       "      <td>(518, 601)</td>\n",
       "      <td>518</td>\n",
       "      <td>601</td>\n",
       "      <td>RGB</td>\n",
       "    </tr>\n",
       "  </tbody>\n",
       "</table>\n",
       "</div>"
      ],
      "text/plain": [
       "                      file_path subfolder  age  sex  race age_range  \\\n",
       "0  34_0_1_20170112213542279.jpg     part2   34    0     1  30_to_40   \n",
       "1  32_1_0_20170109141308065.jpg     part1   32    1     0  30_to_40   \n",
       "2  35_1_0_20170116211804087.jpg     part2   35    1     0  30_to_40   \n",
       "3  21_0_0_20170104020830476.jpg     part1   21    0     0  20_to_30   \n",
       "4  27_1_2_20170104020523491.jpg     part1   27    1     2  20_to_30   \n",
       "\n",
       "   image_size  image_width  image_height mode  \n",
       "0  (646, 643)          646           643  RGB  \n",
       "1  (638, 319)          638           319  RGB  \n",
       "2  (930, 875)          930           875  RGB  \n",
       "3  (900, 601)          900           601  RGB  \n",
       "4  (518, 601)          518           601  RGB  "
      ]
     },
     "execution_count": 4,
     "metadata": {},
     "output_type": "execute_result"
    }
   ],
   "source": [
    "full_df.head()"
   ]
  },
  {
   "cell_type": "code",
   "execution_count": 5,
   "id": "9ca50a09",
   "metadata": {},
   "outputs": [
    {
     "data": {
      "text/html": [
       "<style>#sk-container-id-1 {color: black;background-color: white;}#sk-container-id-1 pre{padding: 0;}#sk-container-id-1 div.sk-toggleable {background-color: white;}#sk-container-id-1 label.sk-toggleable__label {cursor: pointer;display: block;width: 100%;margin-bottom: 0;padding: 0.3em;box-sizing: border-box;text-align: center;}#sk-container-id-1 label.sk-toggleable__label-arrow:before {content: \"▸\";float: left;margin-right: 0.25em;color: #696969;}#sk-container-id-1 label.sk-toggleable__label-arrow:hover:before {color: black;}#sk-container-id-1 div.sk-estimator:hover label.sk-toggleable__label-arrow:before {color: black;}#sk-container-id-1 div.sk-toggleable__content {max-height: 0;max-width: 0;overflow: hidden;text-align: left;background-color: #f0f8ff;}#sk-container-id-1 div.sk-toggleable__content pre {margin: 0.2em;color: black;border-radius: 0.25em;background-color: #f0f8ff;}#sk-container-id-1 input.sk-toggleable__control:checked~div.sk-toggleable__content {max-height: 200px;max-width: 100%;overflow: auto;}#sk-container-id-1 input.sk-toggleable__control:checked~label.sk-toggleable__label-arrow:before {content: \"▾\";}#sk-container-id-1 div.sk-estimator input.sk-toggleable__control:checked~label.sk-toggleable__label {background-color: #d4ebff;}#sk-container-id-1 div.sk-label input.sk-toggleable__control:checked~label.sk-toggleable__label {background-color: #d4ebff;}#sk-container-id-1 input.sk-hidden--visually {border: 0;clip: rect(1px 1px 1px 1px);clip: rect(1px, 1px, 1px, 1px);height: 1px;margin: -1px;overflow: hidden;padding: 0;position: absolute;width: 1px;}#sk-container-id-1 div.sk-estimator {font-family: monospace;background-color: #f0f8ff;border: 1px dotted black;border-radius: 0.25em;box-sizing: border-box;margin-bottom: 0.5em;}#sk-container-id-1 div.sk-estimator:hover {background-color: #d4ebff;}#sk-container-id-1 div.sk-parallel-item::after {content: \"\";width: 100%;border-bottom: 1px solid gray;flex-grow: 1;}#sk-container-id-1 div.sk-label:hover label.sk-toggleable__label {background-color: #d4ebff;}#sk-container-id-1 div.sk-serial::before {content: \"\";position: absolute;border-left: 1px solid gray;box-sizing: border-box;top: 0;bottom: 0;left: 50%;z-index: 0;}#sk-container-id-1 div.sk-serial {display: flex;flex-direction: column;align-items: center;background-color: white;padding-right: 0.2em;padding-left: 0.2em;position: relative;}#sk-container-id-1 div.sk-item {position: relative;z-index: 1;}#sk-container-id-1 div.sk-parallel {display: flex;align-items: stretch;justify-content: center;background-color: white;position: relative;}#sk-container-id-1 div.sk-item::before, #sk-container-id-1 div.sk-parallel-item::before {content: \"\";position: absolute;border-left: 1px solid gray;box-sizing: border-box;top: 0;bottom: 0;left: 50%;z-index: -1;}#sk-container-id-1 div.sk-parallel-item {display: flex;flex-direction: column;z-index: 1;position: relative;background-color: white;}#sk-container-id-1 div.sk-parallel-item:first-child::after {align-self: flex-end;width: 50%;}#sk-container-id-1 div.sk-parallel-item:last-child::after {align-self: flex-start;width: 50%;}#sk-container-id-1 div.sk-parallel-item:only-child::after {width: 0;}#sk-container-id-1 div.sk-dashed-wrapped {border: 1px dashed gray;margin: 0 0.4em 0.5em 0.4em;box-sizing: border-box;padding-bottom: 0.4em;background-color: white;}#sk-container-id-1 div.sk-label label {font-family: monospace;font-weight: bold;display: inline-block;line-height: 1.2em;}#sk-container-id-1 div.sk-label-container {text-align: center;}#sk-container-id-1 div.sk-container {/* jupyter's `normalize.less` sets `[hidden] { display: none; }` but bootstrap.min.css set `[hidden] { display: none !important; }` so we also need the `!important` here to be able to override the default hidden behavior on the sphinx rendered scikit-learn.org. See: https://github.com/scikit-learn/scikit-learn/issues/21755 */display: inline-block !important;position: relative;}#sk-container-id-1 div.sk-text-repr-fallback {display: none;}</style><div id=\"sk-container-id-1\" class=\"sk-top-container\"><div class=\"sk-text-repr-fallback\"><pre>LabelEncoder()</pre><b>In a Jupyter environment, please rerun this cell to show the HTML representation or trust the notebook. <br />On GitHub, the HTML representation is unable to render, please try loading this page with nbviewer.org.</b></div><div class=\"sk-container\" hidden><div class=\"sk-item\"><div class=\"sk-estimator sk-toggleable\"><input class=\"sk-toggleable__control sk-hidden--visually\" id=\"sk-estimator-id-1\" type=\"checkbox\" checked><label for=\"sk-estimator-id-1\" class=\"sk-toggleable__label sk-toggleable__label-arrow\">LabelEncoder</label><div class=\"sk-toggleable__content\"><pre>LabelEncoder()</pre></div></div></div></div></div>"
      ],
      "text/plain": [
       "LabelEncoder()"
      ]
     },
     "execution_count": 5,
     "metadata": {},
     "output_type": "execute_result"
    }
   ],
   "source": [
    "le = LabelEncoder()\n",
    "le.fit(full_df.age_range)"
   ]
  },
  {
   "cell_type": "code",
   "execution_count": 6,
   "id": "220aa152",
   "metadata": {},
   "outputs": [
    {
     "data": {
      "text/plain": [
       "array(['0_to_10', '10_to_20', '20_to_30', '30_to_40', '40_to_50',\n",
       "       '50_to_60', '60_to_70', '70_to_80', 'above_80'], dtype=object)"
      ]
     },
     "execution_count": 6,
     "metadata": {},
     "output_type": "execute_result"
    }
   ],
   "source": [
    "le.classes_"
   ]
  },
  {
   "cell_type": "code",
   "execution_count": 7,
   "id": "d1746f1c",
   "metadata": {},
   "outputs": [],
   "source": [
    "ages = le.transform(full_df['age_range'])"
   ]
  },
  {
   "cell_type": "code",
   "execution_count": 8,
   "id": "8d0300e0",
   "metadata": {},
   "outputs": [
    {
     "data": {
      "text/html": [
       "<div>\n",
       "<style scoped>\n",
       "    .dataframe tbody tr th:only-of-type {\n",
       "        vertical-align: middle;\n",
       "    }\n",
       "\n",
       "    .dataframe tbody tr th {\n",
       "        vertical-align: top;\n",
       "    }\n",
       "\n",
       "    .dataframe thead th {\n",
       "        text-align: right;\n",
       "    }\n",
       "</style>\n",
       "<table border=\"1\" class=\"dataframe\">\n",
       "  <thead>\n",
       "    <tr style=\"text-align: right;\">\n",
       "      <th></th>\n",
       "      <th>file_path</th>\n",
       "      <th>subfolder</th>\n",
       "      <th>age</th>\n",
       "      <th>sex</th>\n",
       "      <th>race</th>\n",
       "      <th>age_range</th>\n",
       "      <th>image_size</th>\n",
       "      <th>image_width</th>\n",
       "      <th>image_height</th>\n",
       "      <th>mode</th>\n",
       "      <th>target_age</th>\n",
       "    </tr>\n",
       "  </thead>\n",
       "  <tbody>\n",
       "    <tr>\n",
       "      <th>0</th>\n",
       "      <td>34_0_1_20170112213542279.jpg</td>\n",
       "      <td>part2</td>\n",
       "      <td>34</td>\n",
       "      <td>0</td>\n",
       "      <td>1</td>\n",
       "      <td>30_to_40</td>\n",
       "      <td>(646, 643)</td>\n",
       "      <td>646</td>\n",
       "      <td>643</td>\n",
       "      <td>RGB</td>\n",
       "      <td>3</td>\n",
       "    </tr>\n",
       "    <tr>\n",
       "      <th>1</th>\n",
       "      <td>32_1_0_20170109141308065.jpg</td>\n",
       "      <td>part1</td>\n",
       "      <td>32</td>\n",
       "      <td>1</td>\n",
       "      <td>0</td>\n",
       "      <td>30_to_40</td>\n",
       "      <td>(638, 319)</td>\n",
       "      <td>638</td>\n",
       "      <td>319</td>\n",
       "      <td>RGB</td>\n",
       "      <td>3</td>\n",
       "    </tr>\n",
       "    <tr>\n",
       "      <th>2</th>\n",
       "      <td>35_1_0_20170116211804087.jpg</td>\n",
       "      <td>part2</td>\n",
       "      <td>35</td>\n",
       "      <td>1</td>\n",
       "      <td>0</td>\n",
       "      <td>30_to_40</td>\n",
       "      <td>(930, 875)</td>\n",
       "      <td>930</td>\n",
       "      <td>875</td>\n",
       "      <td>RGB</td>\n",
       "      <td>3</td>\n",
       "    </tr>\n",
       "    <tr>\n",
       "      <th>3</th>\n",
       "      <td>21_0_0_20170104020830476.jpg</td>\n",
       "      <td>part1</td>\n",
       "      <td>21</td>\n",
       "      <td>0</td>\n",
       "      <td>0</td>\n",
       "      <td>20_to_30</td>\n",
       "      <td>(900, 601)</td>\n",
       "      <td>900</td>\n",
       "      <td>601</td>\n",
       "      <td>RGB</td>\n",
       "      <td>2</td>\n",
       "    </tr>\n",
       "    <tr>\n",
       "      <th>4</th>\n",
       "      <td>27_1_2_20170104020523491.jpg</td>\n",
       "      <td>part1</td>\n",
       "      <td>27</td>\n",
       "      <td>1</td>\n",
       "      <td>2</td>\n",
       "      <td>20_to_30</td>\n",
       "      <td>(518, 601)</td>\n",
       "      <td>518</td>\n",
       "      <td>601</td>\n",
       "      <td>RGB</td>\n",
       "      <td>2</td>\n",
       "    </tr>\n",
       "  </tbody>\n",
       "</table>\n",
       "</div>"
      ],
      "text/plain": [
       "                      file_path subfolder  age  sex  race age_range  \\\n",
       "0  34_0_1_20170112213542279.jpg     part2   34    0     1  30_to_40   \n",
       "1  32_1_0_20170109141308065.jpg     part1   32    1     0  30_to_40   \n",
       "2  35_1_0_20170116211804087.jpg     part2   35    1     0  30_to_40   \n",
       "3  21_0_0_20170104020830476.jpg     part1   21    0     0  20_to_30   \n",
       "4  27_1_2_20170104020523491.jpg     part1   27    1     2  20_to_30   \n",
       "\n",
       "   image_size  image_width  image_height mode  target_age  \n",
       "0  (646, 643)          646           643  RGB           3  \n",
       "1  (638, 319)          638           319  RGB           3  \n",
       "2  (930, 875)          930           875  RGB           3  \n",
       "3  (900, 601)          900           601  RGB           2  \n",
       "4  (518, 601)          518           601  RGB           2  "
      ]
     },
     "execution_count": 8,
     "metadata": {},
     "output_type": "execute_result"
    }
   ],
   "source": [
    "full_df['target_age'] = ages\n",
    "full_df.head()"
   ]
  },
  {
   "cell_type": "code",
   "execution_count": 9,
   "id": "46fac808",
   "metadata": {},
   "outputs": [],
   "source": [
    "class AgeDataset(Dataset):\n",
    "    def __init__(self, data, transforms, path='../data/wild_images'):\n",
    "        self.data = data\n",
    "        self.transforms = transforms\n",
    "        self.path = path\n",
    "\n",
    "    def __len__(self):\n",
    "        return self.data.shape[0]\n",
    "\n",
    "    def __getitem__(self, index):\n",
    "        row = self.data.iloc[index]\n",
    "        image_id = row['file_path']\n",
    "        target_age = row['target_age']\n",
    "        target_sex = row['sex']\n",
    "        target_race = row['race']\n",
    "        subfolder = row['subfolder']\n",
    "        the_image = Image.open(os.path.join(self.path, subfolder, image_id))\n",
    "        transformed_image = self.transforms(the_image)\n",
    "        return transformed_image, target_age, target_sex, target_race"
   ]
  },
  {
   "cell_type": "code",
   "execution_count": 10,
   "id": "0f0db192",
   "metadata": {},
   "outputs": [],
   "source": [
    "transforms = Compose([Resize((256, 256)), ToTensor()])"
   ]
  },
  {
   "cell_type": "code",
   "execution_count": 11,
   "id": "a13aed02",
   "metadata": {},
   "outputs": [],
   "source": [
    "the_data = AgeDataset(full_df, transforms, data_path)"
   ]
  },
  {
   "cell_type": "code",
   "execution_count": 10,
   "id": "59a503a9",
   "metadata": {},
   "outputs": [],
   "source": [
    "class AgePredictionData(pl.LightningDataModule):\n",
    "    def __init__(self, full_data, train_batch=64, path='../data/wild_images'):\n",
    "        super().__init__()\n",
    "        self.path = path\n",
    "        self.full_data = full_data\n",
    "        self.augmentations = [\n",
    "            RandomHorizontalFlip(0.5),\n",
    "            RandomRotation(30),\n",
    "            ColorJitter(brightness=.5, hue=.3),\n",
    "            GaussianBlur(kernel_size=(5, 9), sigma=(0.1, 5)),\n",
    "            RandomGrayscale()\n",
    "        ]\n",
    "        self.train_transforms = Compose([\n",
    "            Resize((256, 256)),\n",
    "            RandomApply(self.augmentations, p=0.6),\n",
    "            ToTensor(),\n",
    "            Normalize(mean=[0.485, 0.456, 0.406], std=[0.229, 0.224, 0.225])\n",
    "        ])\n",
    "        self.transforms = Compose([Resize((256, 256)), ToTensor(),\n",
    "                                   Normalize(mean=[0.485, 0.456, 0.406], std=[0.229, 0.224, 0.225])])\n",
    "        self.train_batch = train_batch\n",
    "        self.val_batch = train_batch * 4\n",
    "\n",
    "    def setup(self, stage: Optional[str] = None):\n",
    "        if stage == 'fit' or stage is None:\n",
    "            train_data, self.test_data = train_test_split(self.full_data, test_size=0.05, \n",
    "                                                     stratify=self.full_data['target_age'])\n",
    "            self.train, self.val = train_test_split(train_data, test_size=0.15, stratify=train_data['target_age'])\n",
    "            self.train_data = AgeDataset(self.train, self.train_transforms, self.path)\n",
    "            self.val_data = AgeDataset(self.val, self.transforms, self.path)\n",
    "\n",
    "        if stage == 'predict':\n",
    "            self.pred_data = AgeDataset(self.full_data, self.transforms, self.path)\n",
    "\n",
    "    def train_dataloader(self):\n",
    "        return DataLoader(self.train_data, batch_size=self.train_batch, shuffle=True, pin_memory=True,\n",
    "                          num_workers=16)\n",
    "\n",
    "    def val_dataloader(self):\n",
    "        return DataLoader(self.val_data, batch_size=self.val_batch, shuffle=False, pin_memory=True,\n",
    "                          num_workers=16)\n",
    "\n",
    "    def predict_dataloader(self):\n",
    "        return DataLoader(self.pred_data, batch_size=self.val_batch, shuffle=False, pin_memory=True, num_workers=16)"
   ]
  },
  {
   "cell_type": "code",
   "execution_count": 11,
   "id": "1306dab4",
   "metadata": {},
   "outputs": [],
   "source": [
    "module = AgePredictionData(full_df, 64, data_path)"
   ]
  },
  {
   "cell_type": "code",
   "execution_count": 14,
   "id": "59826d0d",
   "metadata": {},
   "outputs": [],
   "source": [
    "module.setup()"
   ]
  },
  {
   "cell_type": "code",
   "execution_count": 18,
   "id": "6f210388",
   "metadata": {},
   "outputs": [
    {
     "data": {
      "text/plain": [
       "(19449, 3433, 1205)"
      ]
     },
     "execution_count": 18,
     "metadata": {},
     "output_type": "execute_result"
    }
   ],
   "source": [
    "len(module.train_data), len(module.val_data), len(module.test_data)"
   ]
  },
  {
   "cell_type": "code",
   "execution_count": 19,
   "id": "f817c0e5",
   "metadata": {},
   "outputs": [],
   "source": [
    "sample_batch = next(iter(module.train_dataloader()))"
   ]
  },
  {
   "cell_type": "code",
   "execution_count": 29,
   "id": "a3c80ba3",
   "metadata": {},
   "outputs": [
    {
     "data": {
      "text/plain": [
       "torch.Size([64, 3, 256, 256])"
      ]
     },
     "execution_count": 29,
     "metadata": {},
     "output_type": "execute_result"
    }
   ],
   "source": [
    "sample_batch[0].shape"
   ]
  },
  {
   "cell_type": "code",
   "execution_count": 12,
   "id": "819e1118",
   "metadata": {},
   "outputs": [],
   "source": [
    "class AgePredictResnet(nn.Module):\n",
    "    def __init__(self, age_num_targets=9, gender_num=2, race_num=5):\n",
    "        super().__init__()\n",
    "\n",
    "        self.model = torchvision.models.resnet101(pretrained=True)\n",
    "        self.model.fc = nn.Linear(2048, 512)\n",
    "        self.age_linear1 = nn.Linear(512, 256)\n",
    "        self.age_linear2 = nn.Linear(256, 128)\n",
    "        self.age_out = nn.Linear(128, age_num_targets)\n",
    "        self.gender_linear1 = nn.Linear(512, 256)\n",
    "        self.gender_linear2 = nn.Linear(256, 128)\n",
    "        self.gender_out = nn.Linear(128, gender_num)\n",
    "        self.race_linear1 = nn.Linear(512, 256)\n",
    "        self.race_linear2 = nn.Linear(256, 128)\n",
    "        self.race_out = nn.Linear(128, race_num)\n",
    "        self.activation = nn.ReLU()\n",
    "        self.dropout = nn.Dropout(0.4)\n",
    "\n",
    "    def forward(self, x):\n",
    "        out = self.activation(self.model(x))\n",
    "        age_out = self.activation(self.dropout((self.age_linear1(out))))\n",
    "        age_out = self.activation(self.dropout(self.age_linear2(age_out)))\n",
    "        age_out = self.age_out(age_out)\n",
    "        \n",
    "        gender_out = self.activation(self.dropout((self.gender_linear1(out))))\n",
    "        gender_out = self.activation(self.dropout(self.gender_linear2(gender_out)))\n",
    "        gender_out = self.gender_out(gender_out)\n",
    "        \n",
    "        race_out = self.activation(self.dropout((self.race_linear1(out))))\n",
    "        race_out = self.activation(self.dropout(self.race_linear2(race_out)))\n",
    "        race_out = self.race_out(race_out)\n",
    "        return age_out, gender_out, race_out"
   ]
  },
  {
   "cell_type": "code",
   "execution_count": 40,
   "id": "5d618866",
   "metadata": {},
   "outputs": [],
   "source": [
    "model = AgePredictResnet()"
   ]
  },
  {
   "cell_type": "code",
   "execution_count": 48,
   "id": "9b8e6dbb",
   "metadata": {},
   "outputs": [],
   "source": [
    "outputs = model(sample_batch[0])"
   ]
  },
  {
   "cell_type": "code",
   "execution_count": 54,
   "id": "14855fb7",
   "metadata": {},
   "outputs": [
    {
     "data": {
      "text/plain": [
       "(torch.Size([64, 9]), torch.Size([64, 2]), torch.Size([64, 5]))"
      ]
     },
     "execution_count": 54,
     "metadata": {},
     "output_type": "execute_result"
    }
   ],
   "source": [
    "outputs[0].shape, outputs[1].shape, outputs[2].shape"
   ]
  },
  {
   "cell_type": "code",
   "execution_count": 14,
   "id": "9b2be7f5",
   "metadata": {},
   "outputs": [],
   "source": [
    "class AgePrediction(pl.LightningModule):\n",
    "    def __init__(self):\n",
    "        super().__init__()\n",
    "        self.model = AgePredictResnet()\n",
    "        self.criterion = nn.CrossEntropyLoss()\n",
    "        self.acc = Accuracy()\n",
    "        self.f1 = F1Score()\n",
    "        self.softmax = nn.Softmax(dim=1)\n",
    "\n",
    "    def forward(self, image, transforms):\n",
    "        print(\"inside forward\")\n",
    "        image = transforms(image)\n",
    "        image = torch.unsqueeze(image, 0)\n",
    "        print('the image dimensions are :', image.shape)\n",
    "        self.model.eval()\n",
    "        logits = self.model(image)\n",
    "        print(\"the logits are:\", logits)\n",
    "        pred_probabilities = self.softmax(logits)\n",
    "        print(\"The probabilities : \", pred_probabilities)\n",
    "        prediction = torch.argmax(pred_probabilities, dim=1)\n",
    "        return prediction\n",
    "\n",
    "    def training_step(self, input_batch, batch_idx):\n",
    "        image_tensors = input_batch[0]\n",
    "        age_targets = input_batch[1]\n",
    "        sex_targets = input_batch[2]\n",
    "        race_targets = input_batch[3]\n",
    "\n",
    "        logits = self.model(image_tensors)\n",
    "        age_loss = self.criterion(logits[0], age_targets)\n",
    "        sex_loss = self.criterion(logits[1], sex_targets)\n",
    "        race_loss = self.criterion(logits[2], race_targets)\n",
    "        \n",
    "        total_loss = age_loss + sex_loss + race_loss\n",
    "\n",
    "        age_predict = torch.argmax(logits[0], dim=1)\n",
    "        sex_predict = torch.argmax(logits[1], dim=1)\n",
    "        race_predict = torch.argmax(logits[2], dim=1)\n",
    "        age_acc = self.acc(age_predict, age_targets)\n",
    "        sex_acc = self.acc(sex_predict, sex_targets)\n",
    "        race_acc = self.acc(race_predict, race_targets)\n",
    "        \n",
    "        total_acc = (age_acc + sex_acc + race_acc)/3\n",
    "\n",
    "        self.log(\"age-loss\", age_loss, on_step=True, on_epoch=True, prog_bar=True)\n",
    "        self.log(\"sex-loss\", sex_loss, on_step=True, on_epoch=True, prog_bar=True)\n",
    "        self.log(\"race-loss\", race_loss, on_step=True, on_epoch=True, prog_bar=True)\n",
    "        self.log(\"total-loss\", total_loss, on_step=True, on_epoch=True, prog_bar=True)\n",
    "        self.log('age-acc', age_acc, on_step=False, on_epoch=True, prog_bar=True)\n",
    "        self.log('sex-acc', sex_acc, on_step=False, on_epoch=True, prog_bar=True)\n",
    "        self.log('race-acc', race_acc, on_step=False, on_epoch=True, prog_bar=True)\n",
    "        self.log('total-train-acc', total_acc, on_step=False, on_epoch=True, prog_bar=True)\n",
    "\n",
    "        return total_loss\n",
    "\n",
    "    def validation_step(self, input_batch, batch_idx):\n",
    "        image_tensors = input_batch[0]\n",
    "        age_targets = input_batch[1]\n",
    "        sex_targets = input_batch[2]\n",
    "        race_targets = input_batch[3]\n",
    "\n",
    "        logits = self.model(image_tensors)\n",
    "\n",
    "        age_loss = self.criterion(logits[0], age_targets)\n",
    "        sex_loss = self.criterion(logits[1], sex_targets)\n",
    "        race_loss = self.criterion(logits[2], race_targets)\n",
    "        \n",
    "        total_loss = age_loss + sex_loss + race_loss\n",
    "        \n",
    "        age_predict = torch.argmax(logits[0], dim=1)\n",
    "        sex_predict = torch.argmax(logits[1], dim=1)\n",
    "        race_predict = torch.argmax(logits[2], dim=1)\n",
    "        age_acc = self.acc(age_predict, age_targets)\n",
    "        sex_acc = self.acc(sex_predict, sex_targets)\n",
    "        race_acc = self.acc(race_predict, race_targets)\n",
    "        \n",
    "        total_acc = (age_acc + sex_acc + race_acc)/3\n",
    "        \n",
    "\n",
    "        self.log(\"val-total-loss\", total_loss, on_step=False, on_epoch=True, prog_bar=True)\n",
    "        self.log('val-age-acc', age_acc, on_step=False, on_epoch=True, prog_bar=True)\n",
    "        self.log('val-sex-acc', sex_acc, on_step=False, on_epoch=True, prog_bar=True)\n",
    "        self.log('val-race-acc', race_acc, on_step=False, on_epoch=True, prog_bar=True)\n",
    "        self.log('val-total-acc', total_acc, on_step=False, on_epoch=True, prog_bar=True)\n",
    "\n",
    "    def predict_step(self, input_batch, batch_idx):\n",
    "        print(\"inside predict_step\")\n",
    "        image_tensors = input_batch[0]\n",
    "        targets = input_batch[1]\n",
    "\n",
    "        logits = self.model(image_tensors)\n",
    "\n",
    "        predictions = torch.argmax(logits, dim=1)\n",
    "        return predictions.cpu().detach().numpy()\n",
    "\n",
    "    def configure_optimizers(self):\n",
    "        return torch.optim.AdamW(self.parameters(), lr=0.00002)"
   ]
  },
  {
   "cell_type": "code",
   "execution_count": 15,
   "id": "668a8d31",
   "metadata": {},
   "outputs": [],
   "source": [
    "train_module = AgePrediction()"
   ]
  },
  {
   "cell_type": "code",
   "execution_count": 16,
   "id": "779bc6fd",
   "metadata": {},
   "outputs": [],
   "source": [
    "data_module = AgePredictionData(full_df, 64, data_path)"
   ]
  },
  {
   "cell_type": "code",
   "execution_count": 17,
   "id": "62d599c0",
   "metadata": {},
   "outputs": [],
   "source": [
    "checkpoint_callback = ModelCheckpoint(filename='{epoch}-{val-total-acc:.3f}', save_top_k=2, monitor='val-total-acc'\n",
    "                                          , mode='max')"
   ]
  },
  {
   "cell_type": "code",
   "execution_count": 18,
   "id": "e16a7895",
   "metadata": {},
   "outputs": [],
   "source": [
    "early_stopping = EarlyStopping(monitor=\"val-total-acc\", patience=10, verbose=False, mode=\"max\")"
   ]
  },
  {
   "cell_type": "code",
   "execution_count": 19,
   "id": "a9ebe5e5",
   "metadata": {},
   "outputs": [
    {
     "name": "stderr",
     "output_type": "stream",
     "text": [
      "\u001b[34m\u001b[1mwandb\u001b[0m: Currently logged in as: \u001b[33mnikhilsalodkar\u001b[0m. Use \u001b[1m`wandb login --relogin`\u001b[0m to force relogin\n"
     ]
    },
    {
     "data": {
      "text/html": [
       "wandb version 0.13.2 is available!  To upgrade, please run:\n",
       " $ pip install wandb --upgrade"
      ],
      "text/plain": [
       "<IPython.core.display.HTML object>"
      ]
     },
     "metadata": {},
     "output_type": "display_data"
    },
    {
     "data": {
      "text/html": [
       "Tracking run with wandb version 0.12.21"
      ],
      "text/plain": [
       "<IPython.core.display.HTML object>"
      ]
     },
     "metadata": {},
     "output_type": "display_data"
    },
    {
     "data": {
      "text/html": [
       "Run data is saved locally in <code>../lightning_logs/wandb/run-20220902_191859-1xm1bbst</code>"
      ],
      "text/plain": [
       "<IPython.core.display.HTML object>"
      ]
     },
     "metadata": {},
     "output_type": "display_data"
    },
    {
     "data": {
      "text/html": [
       "Syncing run <strong><a href=\"https://wandb.ai/nikhilsalodkar/UTK_Age_Prediction/runs/1xm1bbst\" target=\"_blank\">resnet101_first_model</a></strong> to <a href=\"https://wandb.ai/nikhilsalodkar/UTK_Age_Prediction\" target=\"_blank\">Weights & Biases</a> (<a href=\"https://wandb.me/run\" target=\"_blank\">docs</a>)<br/>"
      ],
      "text/plain": [
       "<IPython.core.display.HTML object>"
      ]
     },
     "metadata": {},
     "output_type": "display_data"
    }
   ],
   "source": [
    "wandb_logger = WandbLogger(project=\"UTK_Age_Prediction\", save_dir='../lightning_logs',\n",
    "                               name=\"resnet101_first_model\")"
   ]
  },
  {
   "cell_type": "code",
   "execution_count": 20,
   "id": "0509b11c",
   "metadata": {},
   "outputs": [
    {
     "name": "stderr",
     "output_type": "stream",
     "text": [
      "Using 16bit native Automatic Mixed Precision (AMP)\n",
      "GPU available: True (cuda), used: True\n",
      "TPU available: False, using: 0 TPU cores\n",
      "IPU available: False, using: 0 IPUs\n",
      "HPU available: False, using: 0 HPUs\n"
     ]
    }
   ],
   "source": [
    "trainer = pl.Trainer(accelerator='gpu', fast_dev_run=False, max_epochs=100,\n",
    "                         callbacks=[checkpoint_callback, early_stopping], logger=wandb_logger, precision=16)"
   ]
  },
  {
   "cell_type": "code",
   "execution_count": 21,
   "id": "9241ab93",
   "metadata": {},
   "outputs": [
    {
     "name": "stderr",
     "output_type": "stream",
     "text": [
      "LOCAL_RANK: 0 - CUDA_VISIBLE_DEVICES: [0]\n",
      "\n",
      "  | Name      | Type             | Params\n",
      "-----------------------------------------------\n",
      "0 | model     | AgePredictResnet | 44.0 M\n",
      "1 | criterion | CrossEntropyLoss | 0     \n",
      "2 | acc       | Accuracy         | 0     \n",
      "3 | f1        | F1Score          | 0     \n",
      "4 | softmax   | Softmax          | 0     \n",
      "-----------------------------------------------\n",
      "44.0 M    Trainable params\n",
      "0         Non-trainable params\n",
      "44.0 M    Total params\n",
      "88.088    Total estimated model params size (MB)\n"
     ]
    },
    {
     "data": {
      "application/vnd.jupyter.widget-view+json": {
       "model_id": "",
       "version_major": 2,
       "version_minor": 0
      },
      "text/plain": [
       "Sanity Checking: 0it [00:00, ?it/s]"
      ]
     },
     "metadata": {},
     "output_type": "display_data"
    },
    {
     "data": {
      "application/vnd.jupyter.widget-view+json": {
       "model_id": "56a3ee78bce749d5a1ecea8e1b627c67",
       "version_major": 2,
       "version_minor": 0
      },
      "text/plain": [
       "Training: 0it [00:00, ?it/s]"
      ]
     },
     "metadata": {},
     "output_type": "display_data"
    },
    {
     "data": {
      "application/vnd.jupyter.widget-view+json": {
       "model_id": "",
       "version_major": 2,
       "version_minor": 0
      },
      "text/plain": [
       "Validation: 0it [00:00, ?it/s]"
      ]
     },
     "metadata": {},
     "output_type": "display_data"
    },
    {
     "data": {
      "application/vnd.jupyter.widget-view+json": {
       "model_id": "",
       "version_major": 2,
       "version_minor": 0
      },
      "text/plain": [
       "Validation: 0it [00:00, ?it/s]"
      ]
     },
     "metadata": {},
     "output_type": "display_data"
    },
    {
     "data": {
      "application/vnd.jupyter.widget-view+json": {
       "model_id": "",
       "version_major": 2,
       "version_minor": 0
      },
      "text/plain": [
       "Validation: 0it [00:00, ?it/s]"
      ]
     },
     "metadata": {},
     "output_type": "display_data"
    },
    {
     "data": {
      "application/vnd.jupyter.widget-view+json": {
       "model_id": "",
       "version_major": 2,
       "version_minor": 0
      },
      "text/plain": [
       "Validation: 0it [00:00, ?it/s]"
      ]
     },
     "metadata": {},
     "output_type": "display_data"
    },
    {
     "data": {
      "application/vnd.jupyter.widget-view+json": {
       "model_id": "",
       "version_major": 2,
       "version_minor": 0
      },
      "text/plain": [
       "Validation: 0it [00:00, ?it/s]"
      ]
     },
     "metadata": {},
     "output_type": "display_data"
    },
    {
     "data": {
      "application/vnd.jupyter.widget-view+json": {
       "model_id": "",
       "version_major": 2,
       "version_minor": 0
      },
      "text/plain": [
       "Validation: 0it [00:00, ?it/s]"
      ]
     },
     "metadata": {},
     "output_type": "display_data"
    },
    {
     "data": {
      "application/vnd.jupyter.widget-view+json": {
       "model_id": "",
       "version_major": 2,
       "version_minor": 0
      },
      "text/plain": [
       "Validation: 0it [00:00, ?it/s]"
      ]
     },
     "metadata": {},
     "output_type": "display_data"
    },
    {
     "data": {
      "application/vnd.jupyter.widget-view+json": {
       "model_id": "",
       "version_major": 2,
       "version_minor": 0
      },
      "text/plain": [
       "Validation: 0it [00:00, ?it/s]"
      ]
     },
     "metadata": {},
     "output_type": "display_data"
    },
    {
     "data": {
      "application/vnd.jupyter.widget-view+json": {
       "model_id": "",
       "version_major": 2,
       "version_minor": 0
      },
      "text/plain": [
       "Validation: 0it [00:00, ?it/s]"
      ]
     },
     "metadata": {},
     "output_type": "display_data"
    },
    {
     "data": {
      "application/vnd.jupyter.widget-view+json": {
       "model_id": "",
       "version_major": 2,
       "version_minor": 0
      },
      "text/plain": [
       "Validation: 0it [00:00, ?it/s]"
      ]
     },
     "metadata": {},
     "output_type": "display_data"
    },
    {
     "data": {
      "application/vnd.jupyter.widget-view+json": {
       "model_id": "",
       "version_major": 2,
       "version_minor": 0
      },
      "text/plain": [
       "Validation: 0it [00:00, ?it/s]"
      ]
     },
     "metadata": {},
     "output_type": "display_data"
    },
    {
     "data": {
      "application/vnd.jupyter.widget-view+json": {
       "model_id": "",
       "version_major": 2,
       "version_minor": 0
      },
      "text/plain": [
       "Validation: 0it [00:00, ?it/s]"
      ]
     },
     "metadata": {},
     "output_type": "display_data"
    },
    {
     "data": {
      "application/vnd.jupyter.widget-view+json": {
       "model_id": "",
       "version_major": 2,
       "version_minor": 0
      },
      "text/plain": [
       "Validation: 0it [00:00, ?it/s]"
      ]
     },
     "metadata": {},
     "output_type": "display_data"
    },
    {
     "data": {
      "application/vnd.jupyter.widget-view+json": {
       "model_id": "",
       "version_major": 2,
       "version_minor": 0
      },
      "text/plain": [
       "Validation: 0it [00:00, ?it/s]"
      ]
     },
     "metadata": {},
     "output_type": "display_data"
    },
    {
     "data": {
      "application/vnd.jupyter.widget-view+json": {
       "model_id": "",
       "version_major": 2,
       "version_minor": 0
      },
      "text/plain": [
       "Validation: 0it [00:00, ?it/s]"
      ]
     },
     "metadata": {},
     "output_type": "display_data"
    },
    {
     "data": {
      "application/vnd.jupyter.widget-view+json": {
       "model_id": "",
       "version_major": 2,
       "version_minor": 0
      },
      "text/plain": [
       "Validation: 0it [00:00, ?it/s]"
      ]
     },
     "metadata": {},
     "output_type": "display_data"
    },
    {
     "data": {
      "application/vnd.jupyter.widget-view+json": {
       "model_id": "",
       "version_major": 2,
       "version_minor": 0
      },
      "text/plain": [
       "Validation: 0it [00:00, ?it/s]"
      ]
     },
     "metadata": {},
     "output_type": "display_data"
    },
    {
     "data": {
      "application/vnd.jupyter.widget-view+json": {
       "model_id": "",
       "version_major": 2,
       "version_minor": 0
      },
      "text/plain": [
       "Validation: 0it [00:00, ?it/s]"
      ]
     },
     "metadata": {},
     "output_type": "display_data"
    },
    {
     "data": {
      "application/vnd.jupyter.widget-view+json": {
       "model_id": "",
       "version_major": 2,
       "version_minor": 0
      },
      "text/plain": [
       "Validation: 0it [00:00, ?it/s]"
      ]
     },
     "metadata": {},
     "output_type": "display_data"
    },
    {
     "data": {
      "application/vnd.jupyter.widget-view+json": {
       "model_id": "",
       "version_major": 2,
       "version_minor": 0
      },
      "text/plain": [
       "Validation: 0it [00:00, ?it/s]"
      ]
     },
     "metadata": {},
     "output_type": "display_data"
    },
    {
     "data": {
      "application/vnd.jupyter.widget-view+json": {
       "model_id": "",
       "version_major": 2,
       "version_minor": 0
      },
      "text/plain": [
       "Validation: 0it [00:00, ?it/s]"
      ]
     },
     "metadata": {},
     "output_type": "display_data"
    },
    {
     "data": {
      "application/vnd.jupyter.widget-view+json": {
       "model_id": "",
       "version_major": 2,
       "version_minor": 0
      },
      "text/plain": [
       "Validation: 0it [00:00, ?it/s]"
      ]
     },
     "metadata": {},
     "output_type": "display_data"
    },
    {
     "data": {
      "application/vnd.jupyter.widget-view+json": {
       "model_id": "",
       "version_major": 2,
       "version_minor": 0
      },
      "text/plain": [
       "Validation: 0it [00:00, ?it/s]"
      ]
     },
     "metadata": {},
     "output_type": "display_data"
    },
    {
     "data": {
      "application/vnd.jupyter.widget-view+json": {
       "model_id": "",
       "version_major": 2,
       "version_minor": 0
      },
      "text/plain": [
       "Validation: 0it [00:00, ?it/s]"
      ]
     },
     "metadata": {},
     "output_type": "display_data"
    },
    {
     "data": {
      "application/vnd.jupyter.widget-view+json": {
       "model_id": "",
       "version_major": 2,
       "version_minor": 0
      },
      "text/plain": [
       "Validation: 0it [00:00, ?it/s]"
      ]
     },
     "metadata": {},
     "output_type": "display_data"
    },
    {
     "data": {
      "application/vnd.jupyter.widget-view+json": {
       "model_id": "",
       "version_major": 2,
       "version_minor": 0
      },
      "text/plain": [
       "Validation: 0it [00:00, ?it/s]"
      ]
     },
     "metadata": {},
     "output_type": "display_data"
    },
    {
     "data": {
      "application/vnd.jupyter.widget-view+json": {
       "model_id": "",
       "version_major": 2,
       "version_minor": 0
      },
      "text/plain": [
       "Validation: 0it [00:00, ?it/s]"
      ]
     },
     "metadata": {},
     "output_type": "display_data"
    },
    {
     "data": {
      "application/vnd.jupyter.widget-view+json": {
       "model_id": "",
       "version_major": 2,
       "version_minor": 0
      },
      "text/plain": [
       "Validation: 0it [00:00, ?it/s]"
      ]
     },
     "metadata": {},
     "output_type": "display_data"
    }
   ],
   "source": [
    "trainer.fit(train_module, data_module)"
   ]
  },
  {
   "cell_type": "code",
   "execution_count": null,
   "id": "b4699ca7",
   "metadata": {},
   "outputs": [],
   "source": []
  }
 ],
 "metadata": {
  "kernelspec": {
   "display_name": "Python 3 (ipykernel)",
   "language": "python",
   "name": "python3"
  },
  "language_info": {
   "codemirror_mode": {
    "name": "ipython",
    "version": 3
   },
   "file_extension": ".py",
   "mimetype": "text/x-python",
   "name": "python",
   "nbconvert_exporter": "python",
   "pygments_lexer": "ipython3",
   "version": "3.8.13"
  }
 },
 "nbformat": 4,
 "nbformat_minor": 5
}
